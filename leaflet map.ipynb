{
 "cells": [
  {
   "cell_type": "markdown",
   "metadata": {},
   "source": [
    "## Mapa Leaflet de los artistas\n",
    "\n",
    "Pasamos el geocoded csv de artitstas a un GoeJSON para hacer un mapa con Leaflet"
   ]
  },
  {
   "cell_type": "code",
   "execution_count": 1,
   "metadata": {},
   "outputs": [],
   "source": [
    "import pandas as pd, json, math, random\n",
    "from IPython.display import IFrame"
   ]
  },
  {
   "cell_type": "code",
   "execution_count": 51,
   "metadata": {},
   "outputs": [
    {
     "name": "stdout",
     "output_type": "stream",
     "text": [
      "48 total rows\n",
      "46 rows with lat-long\n",
      "41 unique lat-longs\n"
     ]
    }
   ],
   "source": [
    "# load the geocoded data set of artists\n",
    "df = pd.read_csv('data/mb_geocoded.csv', encoding='utf-8')\n",
    "print('{:,} total rows'.format(len(df)))\n",
    "df = df[pd.notnull(df['place_latlng'])]\n",
    "print('{:,} rows with lat-long'.format(len(df)))\n",
    "print('{:,} unique lat-longs'.format(len(df['place_latlng'].unique())))"
   ]
  },
  {
   "cell_type": "code",
   "execution_count": 52,
   "metadata": {},
   "outputs": [
    {
     "data": {
      "text/html": [
       "<div>\n",
       "<style scoped>\n",
       "    .dataframe tbody tr th:only-of-type {\n",
       "        vertical-align: middle;\n",
       "    }\n",
       "\n",
       "    .dataframe tbody tr th {\n",
       "        vertical-align: top;\n",
       "    }\n",
       "\n",
       "    .dataframe thead th {\n",
       "        text-align: right;\n",
       "    }\n",
       "</style>\n",
       "<table border=\"1\" class=\"dataframe\">\n",
       "  <thead>\n",
       "    <tr style=\"text-align: right;\">\n",
       "      <th></th>\n",
       "      <th>id</th>\n",
       "      <th>name</th>\n",
       "      <th>type</th>\n",
       "      <th>gender</th>\n",
       "      <th>country</th>\n",
       "      <th>begin_date</th>\n",
       "      <th>end_date</th>\n",
       "      <th>begin_area_id</th>\n",
       "      <th>begin_area_name</th>\n",
       "      <th>area_id</th>\n",
       "      <th>area_name</th>\n",
       "      <th>place_id</th>\n",
       "      <th>place</th>\n",
       "      <th>place_full</th>\n",
       "      <th>place_latlng</th>\n",
       "    </tr>\n",
       "  </thead>\n",
       "  <tbody>\n",
       "    <tr>\n",
       "      <th>0</th>\n",
       "      <td>678d88b2-87b0-403b-b63d-5da7465aecc3</td>\n",
       "      <td>Led Zeppelin</td>\n",
       "      <td>Group</td>\n",
       "      <td>NaN</td>\n",
       "      <td>GB</td>\n",
       "      <td>1968</td>\n",
       "      <td>1980-09-25</td>\n",
       "      <td>f03d09b3-39dc-4083-afd6-159e3f0d462f</td>\n",
       "      <td>London</td>\n",
       "      <td>8a754a16-0027-3a29-b6d7-2b40ea0481ed</td>\n",
       "      <td>United Kingdom</td>\n",
       "      <td>f03d09b3-39dc-4083-afd6-159e3f0d462f</td>\n",
       "      <td>London</td>\n",
       "      <td>London, England, United Kingdom</td>\n",
       "      <td>51.5073219,-0.1276474</td>\n",
       "    </tr>\n",
       "    <tr>\n",
       "      <th>1</th>\n",
       "      <td>020bfbb4-05c3-4c86-b372-17825c262094</td>\n",
       "      <td>Audioslave</td>\n",
       "      <td>Group</td>\n",
       "      <td>NaN</td>\n",
       "      <td>US</td>\n",
       "      <td>2001</td>\n",
       "      <td>2007-02-15</td>\n",
       "      <td>1f40c6e1-47ba-4e35-996f-fe6ee5840e62</td>\n",
       "      <td>Los Angeles</td>\n",
       "      <td>489ce91b-6658-3307-9877-795b68554c98</td>\n",
       "      <td>United States</td>\n",
       "      <td>1f40c6e1-47ba-4e35-996f-fe6ee5840e62</td>\n",
       "      <td>Los Angeles</td>\n",
       "      <td>Los Angeles, Los Angeles County, California, U...</td>\n",
       "      <td>34.0536909,-118.2427666</td>\n",
       "    </tr>\n",
       "    <tr>\n",
       "      <th>2</th>\n",
       "      <td>3a528006-1429-47f4-ae9b-2ea95343e16a</td>\n",
       "      <td>Velvet Revolver</td>\n",
       "      <td>Group</td>\n",
       "      <td>NaN</td>\n",
       "      <td>US</td>\n",
       "      <td>2002</td>\n",
       "      <td>2008</td>\n",
       "      <td>497c3151-73cb-4c95-9a52-95ff4c6360a7</td>\n",
       "      <td>Rancho Santa Margarita</td>\n",
       "      <td>489ce91b-6658-3307-9877-795b68554c98</td>\n",
       "      <td>United States</td>\n",
       "      <td>497c3151-73cb-4c95-9a52-95ff4c6360a7</td>\n",
       "      <td>Rancho Santa Margarita</td>\n",
       "      <td>Rancho Santa Margarita, Orange County, Califor...</td>\n",
       "      <td>33.6408845,-117.6029341</td>\n",
       "    </tr>\n",
       "    <tr>\n",
       "      <th>5</th>\n",
       "      <td>f67bf3e0-65cf-4cba-8990-e5971cd94b43</td>\n",
       "      <td>Ivy Crown</td>\n",
       "      <td>Group</td>\n",
       "      <td>NaN</td>\n",
       "      <td>NaN</td>\n",
       "      <td>NaN</td>\n",
       "      <td>NaN</td>\n",
       "      <td>NaN</td>\n",
       "      <td>NaN</td>\n",
       "      <td>e0e3c82a-aea8-48d3-beda-9e587db0b969</td>\n",
       "      <td>Copenhagen</td>\n",
       "      <td>e0e3c82a-aea8-48d3-beda-9e587db0b969</td>\n",
       "      <td>Copenhagen</td>\n",
       "      <td>Copenhagen, Capital Region of Denmark, Denmark</td>\n",
       "      <td>55.6867243,12.5700724</td>\n",
       "    </tr>\n",
       "    <tr>\n",
       "      <th>6</th>\n",
       "      <td>d6d9ec73-d0dd-4066-944c-20d4a6d6c7c7</td>\n",
       "      <td>The Agonist</td>\n",
       "      <td>Group</td>\n",
       "      <td>NaN</td>\n",
       "      <td>CA</td>\n",
       "      <td>2004</td>\n",
       "      <td>NaN</td>\n",
       "      <td>c3cc624e-b963-49cf-ad0b-e318cb341963</td>\n",
       "      <td>Montreal</td>\n",
       "      <td>71bbafaa-e825-3e15-8ca9-017dcad1748b</td>\n",
       "      <td>Canada</td>\n",
       "      <td>c3cc624e-b963-49cf-ad0b-e318cb341963</td>\n",
       "      <td>Montreal</td>\n",
       "      <td>Montreal, Montreal, Quebec, Canada</td>\n",
       "      <td>45.4972159,-73.6103642</td>\n",
       "    </tr>\n",
       "  </tbody>\n",
       "</table>\n",
       "</div>"
      ],
      "text/plain": [
       "                                     id             name   type gender  \\\n",
       "0  678d88b2-87b0-403b-b63d-5da7465aecc3     Led Zeppelin  Group    NaN   \n",
       "1  020bfbb4-05c3-4c86-b372-17825c262094       Audioslave  Group    NaN   \n",
       "2  3a528006-1429-47f4-ae9b-2ea95343e16a  Velvet Revolver  Group    NaN   \n",
       "5  f67bf3e0-65cf-4cba-8990-e5971cd94b43        Ivy Crown  Group    NaN   \n",
       "6  d6d9ec73-d0dd-4066-944c-20d4a6d6c7c7      The Agonist  Group    NaN   \n",
       "\n",
       "  country begin_date    end_date                         begin_area_id  \\\n",
       "0      GB       1968  1980-09-25  f03d09b3-39dc-4083-afd6-159e3f0d462f   \n",
       "1      US       2001  2007-02-15  1f40c6e1-47ba-4e35-996f-fe6ee5840e62   \n",
       "2      US       2002        2008  497c3151-73cb-4c95-9a52-95ff4c6360a7   \n",
       "5     NaN        NaN         NaN                                   NaN   \n",
       "6      CA       2004         NaN  c3cc624e-b963-49cf-ad0b-e318cb341963   \n",
       "\n",
       "          begin_area_name                               area_id  \\\n",
       "0                  London  8a754a16-0027-3a29-b6d7-2b40ea0481ed   \n",
       "1             Los Angeles  489ce91b-6658-3307-9877-795b68554c98   \n",
       "2  Rancho Santa Margarita  489ce91b-6658-3307-9877-795b68554c98   \n",
       "5                     NaN  e0e3c82a-aea8-48d3-beda-9e587db0b969   \n",
       "6                Montreal  71bbafaa-e825-3e15-8ca9-017dcad1748b   \n",
       "\n",
       "        area_name                              place_id  \\\n",
       "0  United Kingdom  f03d09b3-39dc-4083-afd6-159e3f0d462f   \n",
       "1   United States  1f40c6e1-47ba-4e35-996f-fe6ee5840e62   \n",
       "2   United States  497c3151-73cb-4c95-9a52-95ff4c6360a7   \n",
       "5      Copenhagen  e0e3c82a-aea8-48d3-beda-9e587db0b969   \n",
       "6          Canada  c3cc624e-b963-49cf-ad0b-e318cb341963   \n",
       "\n",
       "                    place                                         place_full  \\\n",
       "0                  London                    London, England, United Kingdom   \n",
       "1             Los Angeles  Los Angeles, Los Angeles County, California, U...   \n",
       "2  Rancho Santa Margarita  Rancho Santa Margarita, Orange County, Califor...   \n",
       "5              Copenhagen     Copenhagen, Capital Region of Denmark, Denmark   \n",
       "6                Montreal                 Montreal, Montreal, Quebec, Canada   \n",
       "\n",
       "              place_latlng  \n",
       "0    51.5073219,-0.1276474  \n",
       "1  34.0536909,-118.2427666  \n",
       "2  33.6408845,-117.6029341  \n",
       "5    55.6867243,12.5700724  \n",
       "6   45.4972159,-73.6103642  "
      ]
     },
     "execution_count": 52,
     "metadata": {},
     "output_type": "execute_result"
    }
   ],
   "source": [
    "df.head()"
   ]
  },
  {
   "cell_type": "code",
   "execution_count": 53,
   "metadata": {},
   "outputs": [],
   "source": [
    "# determine how many times each place appears in dataset, and break latlng into discrete lat and long\n",
    "place_counts = df['place_full'].value_counts()\n",
    "df['place_count'] = df['place_full'].map(lambda x: place_counts[x])\n",
    "df['lat'] = df['place_latlng'].map(lambda x: x.split(',')[0])\n",
    "df['lng'] = df['place_latlng'].map(lambda x: x.split(',')[1])\n",
    "df = df[['name', 'place_full', 'place_count', 'lat', 'lng']]"
   ]
  },
  {
   "cell_type": "code",
   "execution_count": 54,
   "metadata": {},
   "outputs": [
    {
     "data": {
      "text/plain": [
       "name           object\n",
       "place_full     object\n",
       "place_count     int64\n",
       "lat            object\n",
       "lng            object\n",
       "dtype: object"
      ]
     },
     "execution_count": 54,
     "metadata": {},
     "output_type": "execute_result"
    }
   ],
   "source": [
    "df.dtypes"
   ]
  },
  {
   "cell_type": "code",
   "execution_count": 55,
   "metadata": {},
   "outputs": [],
   "source": [
    "df['lat'] = df['lat'].astype(float)"
   ]
  },
  {
   "cell_type": "code",
   "execution_count": 56,
   "metadata": {},
   "outputs": [],
   "source": [
    "df['lng'] = df['lng'].astype(float)"
   ]
  },
  {
   "cell_type": "code",
   "execution_count": 57,
   "metadata": {},
   "outputs": [
    {
     "data": {
      "text/plain": [
       "name            object\n",
       "place_full      object\n",
       "place_count      int64\n",
       "lat            float64\n",
       "lng            float64\n",
       "dtype: object"
      ]
     },
     "execution_count": 57,
     "metadata": {},
     "output_type": "execute_result"
    }
   ],
   "source": [
    "df.dtypes"
   ]
  },
  {
   "cell_type": "code",
   "execution_count": 58,
   "metadata": {},
   "outputs": [],
   "source": [
    "df.to_csv('data/mb_geocoded_final.csv',index=False, encoding='utf-8')"
   ]
  },
  {
   "cell_type": "code",
   "execution_count": 20,
   "metadata": {},
   "outputs": [],
   "source": [
    "import folium\n",
    "from folium.plugins import MarkerCluster"
   ]
  },
  {
   "cell_type": "code",
   "execution_count": 50,
   "metadata": {
    "scrolled": true
   },
   "outputs": [
    {
     "data": {
      "text/html": [
       "<div style=\"width:100%;\"><div style=\"position:relative;width:100%;height:0;padding-bottom:60%;\"><span style=\"color:#565656\">Make this Notebook Trusted to load map: File -> Trust Notebook</span><iframe src=\"about:blank\" style=\"position:absolute;width:100%;height:100%;left:0;top:0;border:none !important;\" data-html=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 onload=\"this.contentDocument.open();this.contentDocument.write(atob(this.getAttribute('data-html')));this.contentDocument.close();\" allowfullscreen webkitallowfullscreen mozallowfullscreen></iframe></div></div>"
      ],
      "text/plain": [
       "<folium.folium.Map at 0x2b97755c198>"
      ]
     },
     "execution_count": 50,
     "metadata": {},
     "output_type": "execute_result"
    }
   ],
   "source": [
    "#Define coordinates of where we want to center our map\n",
    "boulder_coords = [0, 0]\n",
    "\n",
    "#Create the map\n",
    "wwmap = folium.Map(location = boulder_coords, zoom_start = 2)\n",
    "\n",
    "#Display the map\n",
    "wwmap"
   ]
  },
  {
   "cell_type": "code",
   "execution_count": 59,
   "metadata": {},
   "outputs": [],
   "source": [
    "data = [[row['lat'],row['lng']] for index, row in df.iterrows()]"
   ]
  },
  {
   "cell_type": "code",
   "execution_count": 60,
   "metadata": {},
   "outputs": [],
   "source": [
    "for index, row in df.iterrows():\n",
    "    \n",
    "    lat = row['lat']\n",
    "    lon = row['lng']\n",
    "    \n",
    "    folium.Marker([lat, lon], popup=row['name']).add_to(wwmap)"
   ]
  },
  {
   "cell_type": "code",
   "execution_count": 61,
   "metadata": {
    "scrolled": true
   },
   "outputs": [
    {
     "data": {
      "text/html": [
       "<div style=\"width:100%;\"><div style=\"position:relative;width:100%;height:0;padding-bottom:60%;\"><span style=\"color:#565656\">Make this Notebook Trusted to load map: File -> Trust Notebook</span><iframe src=\"about:blank\" style=\"position:absolute;width:100%;height:100%;left:0;top:0;border:none !important;\" data-html=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 onload=\"this.contentDocument.open();this.contentDocument.write(atob(this.getAttribute('data-html')));this.contentDocument.close();\" allowfullscreen webkitallowfullscreen mozallowfullscreen></iframe></div></div>"
      ],
      "text/plain": [
       "<folium.folium.Map at 0x2b97755c198>"
      ]
     },
     "execution_count": 61,
     "metadata": {},
     "output_type": "execute_result"
    }
   ],
   "source": [
    "wwmap"
   ]
  }
 ],
 "metadata": {
  "kernelspec": {
   "display_name": "Python 3.7.1 64-bit ('env': virtualenv)",
   "language": "python",
   "name": "python37164bitenvvirtualenva0ffa946634b491d9135d748ae80e06f"
  },
  "language_info": {
   "codemirror_mode": {
    "name": "ipython",
    "version": 3
   },
   "file_extension": ".py",
   "mimetype": "text/x-python",
   "name": "python",
   "nbconvert_exporter": "python",
   "pygments_lexer": "ipython3",
   "version": "3.7.1"
  }
 },
 "nbformat": 4,
 "nbformat_minor": 2
}
